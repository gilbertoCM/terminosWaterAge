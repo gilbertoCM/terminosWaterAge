{
 "cells": [
  {
   "cell_type": "markdown",
   "metadata": {},
   "source": [
    "# Water age in the Terminos lagoon. Mexico\n",
    "\n",
    " Jose-Gilberto Cardoso-Mohedano<sup>2,*</sup>, \n",
    " \n",
    "Lalo\n",
    "Marisol\n",
    "María- Eugenia Allende-Arandía \n",
    "Carlos \n",
    " \n",
    " Joan Albert Sanchez-Cabeza<sup>3</sup>,\n",
    " \n",
    "Ana Carolina Ruiz-Fernández<sup> 3 </sup>, Mario Alejandro Gómez-Ponce <sup>2</sup> ,\n",
    "\n",
    "\n",
    "\n",
    "<sup> 1 </sup> Posgrado en Ciencias del Mar y Limnología, Universidad Nacional Autónoma de México; Avenida Ciudad Universitaria 3000, C.P. 04510, Coyoacán, Ciudad de México, México\n",
    "\n",
    "<sup> 2 </sup>  Estación el Carmen, Instituto de Ciencias del Mar y Limnología, Universidad Nacional Autónoma de México, Carretera Carmen-Puerto Real km. 9.5, 24157 Ciudad del Carmen, Campeche, México\n",
    "\n",
    "<sup> 3 </sup>  Unidad Académica Mazatlán, Instituto de Ciencias del Mar y Limnología, Universidad Nacional Autónoma de México, Calzada Joel Montes Camarena s/n, Colonia Playa Sur, Mazatlán 82000, Sinaloa, México\n",
    "\n",
    "\n",
    "\n",
    " \\*Corresponding Author: gcardoso@cmarl.unam.mx Phone:+52-938-38-31847\n",
    "\n",
    "[doi:XXXXX](https://XXXX)"
   ]
  },
  {
   "cell_type": "markdown",
   "metadata": {},
   "source": [
    "## This script plots salinity and temperature data and models the variation in Terminos Lagoon, Mexico.\n"
   ]
  },
  {
   "cell_type": "code",
   "execution_count": null,
   "metadata": {},
   "outputs": [],
   "source": [
    "# Importing libraries\n",
    "import pandas as pd\n",
    "import seaborn as sns\n",
    "import matplotlib.pyplot as plt\n",
    "import gsw as gsw\n"
   ]
  },
  {
   "cell_type": "code",
   "execution_count": null,
   "metadata": {},
   "outputs": [],
   "source": [
    "# set up the plotting environment\n",
    "def makePretryGraphs():\n",
    "    plt.rcParams[\"xtick.labelsize\"] = 18\n",
    "    plt.rcParams[\"ytick.labelsize\"] = 18\n",
    "    sns.set_style(\"ticks\")\n",
    "    sns.despine(top=False, right=False)"
   ]
  },
  {
   "cell_type": "code",
   "execution_count": null,
   "metadata": {},
   "outputs": [],
   "source": [
    "# read in the csv file\n",
    "def read_csv_file(filename):\n",
    "    # read in the csv file\n",
    "    df = pd.read_csv(filename, sep=\",\", header=0, decimal=\".\", encoding=\"utf-8\") \n",
    "    return df"
   ]
  },
  {
   "cell_type": "code",
   "execution_count": null,
   "metadata": {},
   "outputs": [],
   "source": [
    "# read salinity and temperature data from csv file \n",
    "sal_temp_terminos_file = \"..\\data\\salinity_temperature_climatological_year_terminos_lagoon.csv\"\n",
    "\n"
   ]
  },
  {
   "cell_type": "code",
   "execution_count": null,
   "metadata": {},
   "outputs": [],
   "source": [
    "sal_temp_terminos_rawdata = read_csv_file(sal_temp_terminos_file)"
   ]
  },
  {
   "cell_type": "code",
   "execution_count": null,
   "metadata": {},
   "outputs": [],
   "source": [
    "# print the column names\n",
    "for col in sal_temp_terminos_rawdata.columns:\n",
    "    print(col)"
   ]
  },
  {
   "cell_type": "code",
   "execution_count": null,
   "metadata": {},
   "outputs": [],
   "source": [
    "# select the columns of interest\n",
    "terminos_sal_temp = sal_temp_terminos_rawdata.copy()[\n",
    "    [\n",
    "        \"Time_model\",\n",
    "        \"salinity_ppt_marina_layer1\",\n",
    "        \"temperature_C_marina_layer1\",\n",
    "        \"Conductivity_microsiemens_cm_average\",\n",
    "        \"Temp_C_average\",\n",
    "    ]\n",
    "]"
   ]
  },
  {
   "cell_type": "code",
   "execution_count": null,
   "metadata": {},
   "outputs": [],
   "source": [
    "# set time as index\n",
    "terminos_sal_temp[\"Time_model\"] = pd.to_datetime(\n",
    "    terminos_sal_temp[\"Time_model\"], format=\"%d/%m/%Y %H:%M\"\n",
    "    )\n",
    "\n",
    "terminos_sal_temp = terminos_sal_temp.set_index(\n",
    "    terminos_sal_temp[\"Time_model\"]\n",
    "    )"
   ]
  },
  {
   "cell_type": "code",
   "execution_count": null,
   "metadata": {},
   "outputs": [],
   "source": [
    "months = [\n",
    "    \"January\",\n",
    "    \"February\",\n",
    "    \"March\",\n",
    "    \"April\",\n",
    "    \"May\",\n",
    "    \"June\",\n",
    "    \"July\",\n",
    "    \"August\",\n",
    "    \"September\",\n",
    "    \"October\",\n",
    "    \"November\",\n",
    "    \"December\",\n",
    "]"
   ]
  },
  {
   "cell_type": "code",
   "execution_count": null,
   "metadata": {},
   "outputs": [],
   "source": [
    "# %% Calculate salinity from hobo conductivity\n",
    "\n",
    "terminos_sal_temp[\"sea_level_preasure\"] = 0\n",
    "\n",
    "terminos_sal_temp[\"salinity_psu\"] = gsw.conversions.SP_from_C(\n",
    "    terminos_sal_temp[\"Conductivity_microsiemens_cm_average\"] / 1000,\n",
    "    terminos_sal_temp[\"temperature_C_marina_layer1\"],\n",
    "    terminos_sal_temp[\"sea_level_preasure\"],\n",
    ")"
   ]
  },
  {
   "cell_type": "code",
   "execution_count": null,
   "metadata": {},
   "outputs": [],
   "source": [
    "# Funtion to plot time series data\n",
    "def plot_time_series(df, time, var1, var2, ylabel, ax=None):\n",
    "    import matplotlib.dates as mdates\n",
    "    from datetime import datetime\n",
    "\n",
    "    # If no axes object is passed, create a new figure and axes\n",
    "    if ax is None:\n",
    "        fig, ax = plt.subplots(figsize=(20, 12))\n",
    "\n",
    "    ax.plot(df[time], df[var1], \"*\", color=\"#440154\")\n",
    "    ax.plot(df[time], df[var2], \".\", color=\"#5ec962\")\n",
    "\n",
    "    # Set x-axis limits to January and December of the year in your data\n",
    "    start_date = datetime(df[time].dt.year.iloc[0], 1, 1)  # January 1\n",
    "    end_date = datetime(df[time].dt.year.iloc[0], 12, 31)  # December 31\n",
    "\n",
    "    ax.set_xlim(start_date, end_date)\n",
    "    \n",
    "    ax.tick_params(axis='both', which='major', labelsize=28)\n",
    "    ax.set_ylabel(ylabel, size=34)\n",
    "    ax.xaxis.set_major_formatter(mdates.DateFormatter(\"%b\"))\n",
    "    \n",
    "    \n",
    "    plt.rc(\"pdf\", fonttype=42)\n",
    "    "
   ]
  },
  {
   "cell_type": "code",
   "execution_count": null,
   "metadata": {},
   "outputs": [],
   "source": [
    "# Create a subplot with 2 rows and 1 column\n",
    "fig, axs = plt.subplots(2, 1, figsize=(20, 18))\n",
    "\n",
    "# Plot data field and temperature \n",
    "plot_time_series(terminos_sal_temp, \n",
    "                 \"Time_model\", \n",
    "                 \"Temp_C_average\", \n",
    "                 \"temperature_C_marina_layer1\", \n",
    "                 \"Temperature (°C)\",\n",
    "                 ax=axs[0]  # Plot on the second subplot\n",
    "                 )\n",
    "axs[0].set_title('a)', y=1.02, fontsize=34)  # Set title for the first subplot\n",
    "\n",
    "\n",
    "# Plot data field and model salinity\n",
    "plot_time_series(terminos_sal_temp, \n",
    "                 \"Time_model\", \n",
    "                 \"salinity_psu\", \n",
    "                 \"salinity_ppt_marina_layer1\", \n",
    "                 \"Salinity (psu)\",\n",
    "                 ax=axs[1]  # Plot on the first subplot\n",
    "                 )\n",
    "axs[1].set_title('b)', y=1.02, fontsize=34)  # Set title for the second subplot\n",
    "\n",
    "# Adjust the space between the plots\n",
    "plt.tight_layout()\n",
    "\n",
    "labels = ['Observed', 'Simulated']\n",
    "legend = fig.legend(labels,  ncol=1, fontsize=28, bbox_to_anchor=(0.3, 0.95))\n",
    "\n",
    "# Set a fixed size for all points in the legend\n",
    "fixed_marker_size = 28  # Specify the desired marker size\n",
    "for handle in legend.legend_handles:\n",
    "    handle.set_markersize(fixed_marker_size)\n",
    "\n",
    "# Save the plot to a PDF file\n",
    "plt.savefig('../output_files/sal_temp_model_vs_data.pdf', format='pdf')\n",
    "\n",
    "# Show the plot\n",
    "plt.show()"
   ]
  },
  {
   "cell_type": "code",
   "execution_count": null,
   "metadata": {},
   "outputs": [],
   "source": []
  },
  {
   "cell_type": "code",
   "execution_count": null,
   "metadata": {},
   "outputs": [],
   "source": []
  }
 ],
 "metadata": {
  "kernelspec": {
   "display_name": "base",
   "language": "python",
   "name": "python3"
  },
  "language_info": {
   "codemirror_mode": {
    "name": "ipython",
    "version": 3
   },
   "file_extension": ".py",
   "mimetype": "text/x-python",
   "name": "python",
   "nbconvert_exporter": "python",
   "pygments_lexer": "ipython3",
   "version": "3.12.3"
  }
 },
 "nbformat": 4,
 "nbformat_minor": 2
}
