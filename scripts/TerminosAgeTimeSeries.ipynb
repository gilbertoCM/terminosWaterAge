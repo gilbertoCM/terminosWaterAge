{
 "cells": [
  {
   "cell_type": "code",
   "execution_count": null,
   "metadata": {},
   "outputs": [],
   "source": [
    "# Import the necessary libraries\n",
    "import pandas as pd\n",
    "import matplotlib.pyplot as plt\n",
    "import seaborn as sns\n",
    "\n",
    "\n",
    "# Set the desired figure size in inche\n",
    "plt.rcParams['figure.figsize'] = (20, 12)  # Width: 8 inches, Height: 6 inches\n",
    "\n",
    "#create my color array (viridis)\n",
    "my_colors = [\"#440154\", \"#3b528b\", \"#21918c\",  \"#fde725\" ]\n",
    "\n",
    "\n",
    "# add color array to set_palette\n",
    "sns.set_theme(font_scale=1.6, style=\"ticks\", palette= my_colors)\n"
   ]
  },
  {
   "cell_type": "code",
   "execution_count": null,
   "metadata": {},
   "outputs": [],
   "source": [
    "# My file path\n",
    "myDataPath = '..\\\\data\\\\AGE\\\\'\n",
    "\n",
    "# This window is used to calculate the moving average of the data\n",
    "window = 30"
   ]
  },
  {
   "cell_type": "code",
   "execution_count": null,
   "metadata": {},
   "outputs": [],
   "source": [
    "import pandas as pd\n",
    "\n",
    "def readWaterAge(FolderName):\n",
    "    # Read the data from the CSV file into a DataFrame\n",
    "    myVar = pd.read_csv(\n",
    "        FolderName,\n",
    "        sep=\",\",\n",
    "        header=0,\n",
    "        decimal=\".\",\n",
    "        index_col=\"date and time\",\n",
    "        parse_dates=[\"date and time\"]\n",
    "    )\n",
    "    \n",
    "    # Rename columns\n",
    "    myVar.rename(\n",
    "        columns={\"calculated  AGE  for water from source 1 (d)\": \"WaterAge\"},\n",
    "        inplace=True\n",
    "    )\n",
    "    \n",
    "    # Rename the index\n",
    "    myVar.index.names = [\"Date\"]\n",
    "    \n",
    "    # Filter rows to the desired date range\n",
    "    myVar = myVar.loc[\"2021-12-20\":\"2022-12-31\"].copy()\n",
    "    \n",
    "    # Drop any rows with NaN and convert WaterAge to float type\n",
    "    myVar.dropna(subset=[\"WaterAge\"], inplace=True)\n",
    "    myVar[\"WaterAge\"] = myVar[\"WaterAge\"].astype(float)\n",
    "\n",
    "    return myVar"
   ]
  },
  {
   "cell_type": "code",
   "execution_count": null,
   "metadata": {},
   "outputs": [],
   "source": [
    "def smoothMyVar(var, myWindow):    \n",
    "   # Calculate the rolling mean and standard deviation for the variable\n",
    "    roll = var.WaterAge.rolling(myWindow, center=True)\n",
    "    mySmoothValues = roll.agg(['mean', 'std']) \n",
    "    return mySmoothValues"
   ]
  },
  {
   "cell_type": "code",
   "execution_count": null,
   "metadata": {},
   "outputs": [],
   "source": [
    "def date2deltaTime(var):\n",
    "    # Calculate the time in years from using  the first data point\n",
    "    ser_diff = var.index.to_series().diff()\n",
    "    var['deltaT'] = ser_diff.dt.seconds.div(60, fill_value=0)\n",
    "    var['deltaT'] = ((var['deltaT'].cumsum()))/(60*24*365)\n",
    "    var.set_index('deltaT', inplace=True)\n",
    "    return var   "
   ]
  },
  {
   "cell_type": "code",
   "execution_count": null,
   "metadata": {},
   "outputs": [],
   "source": [
    "def plotSmootWaterAge(var, myWindow, myLabel):\n",
    "    # Plot the rolling mean and standard deviation of the water age\n",
    "    smoothValues = smoothMyVar(var, myWindow)\n",
    "        \n",
    "    ax = smoothValues['mean'].plot(linewidth=3, label= myLabel)            \n",
    "    ax.fill_between(smoothValues.index, smoothValues['mean'] - smoothValues['std'], \n",
    "                    smoothValues['mean'] + smoothValues['std'], alpha=0.2)\n",
    "          \n",
    "    plt.tight_layout()\n",
    "    plt.ylabel(\"Age trazer (days)\", size = 28)\n",
    "    plt.xlabel('Time (years)', size = 28)\n",
    "\n",
    "    plt.xticks(fontsize=18)\n",
    "    plt.yticks(fontsize=18)\n",
    "    \n",
    "\n",
    "    plt.legend() \n",
    "          \n",
    "    return ax"
   ]
  },
  {
   "cell_type": "code",
   "execution_count": null,
   "metadata": {},
   "outputs": [],
   "source": [
    "def plotTerminosAgesInlets(path, myWindow):\n",
    "    # Plot the water age time series for the inlets and Carmen Island\n",
    "    files_labels = [\n",
    "        ('05_CarmenIsland.csv', 'Carmen Island'),\n",
    "        ('01_PReal_inlet.csv', 'Puerto Real Inlet'),\n",
    "        ('07_CarmenInlet.csv', 'Carmen Inlet') \n",
    "\n",
    "    ]\n",
    "    \n",
    "    # Loop through each file and label, read the water age, and plot\n",
    "    for file, label in files_labels:\n",
    "        water_age = readWaterAge(path + file)\n",
    "        plotSmootWaterAge(water_age, myWindow, label)\n",
    "\n",
    "# Plot the water age time series for the inlets and Carmen Island\n",
    "plotTerminosAgesInlets(myDataPath, window)\n",
    "\n"
   ]
  },
  {
   "cell_type": "code",
   "execution_count": null,
   "metadata": {},
   "outputs": [],
   "source": [
    "def plotTerminosAgesZones(path, myWindow):\n",
    "    # Plot the water age time series for the zones\n",
    "    files_labels = [\n",
    "\n",
    "        ('02_Candelaria.csv', 'Candelaria Estuary'),\n",
    "        ('03_Chumpan.csv', 'Chumpan Estuary'),\n",
    "        ('04_lagoonCenter.csv', 'Lagoon Center'),\n",
    "        ('06_Palizada.csv', 'Palizada Estuary')\n",
    "    ]\n",
    "    \n",
    "    # Loop through each file and label, read the water age, and plot\n",
    "    for file, label in files_labels:\n",
    "        water_age = readWaterAge(path + file)\n",
    "        plotSmootWaterAge(water_age, myWindow, label)\n",
    "\n",
    "# Plot the water age time series for the interes zones\n",
    "plotTerminosAgesZones(myDataPath, window)\n"
   ]
  },
  {
   "cell_type": "code",
   "execution_count": null,
   "metadata": {},
   "outputs": [],
   "source": [
    "def plotTerminosAgesSubplots(path, myWindow):\n",
    "    # Plot the water age time series for the inlets and zones in subplots\n",
    "    fig, axs = plt.subplots(2, 1, figsize=(15, 20))\n",
    "    \n",
    "    # Plot inlets on the top subplot\n",
    "    plt.sca(axs[0])\n",
    "    plotTerminosAgesInlets(path, myWindow)\n",
    "\n",
    "    \n",
    "    # Plot zones on the bottom subplot\n",
    "    plt.sca(axs[1])\n",
    "    plotTerminosAgesZones(path, myWindow)\n",
    "\n",
    "    plt.tight_layout()\n",
    "    \n",
    "    plt.savefig('..\\output_files\\\\water_age_zones.pdf', format='pdf')\n",
    "    \n",
    "    plt.show()\n",
    "\n",
    "plotTerminosAgesSubplots(myDataPath, window)"
   ]
  },
  {
   "cell_type": "code",
   "execution_count": null,
   "metadata": {},
   "outputs": [],
   "source": [
    "import numpy as np\n",
    "from tabulate import tabulate\n",
    "\n",
    "def calculate_mean_std_print_table(path):\n",
    "    # Calcutae the mean and standard deviation of the water age for each file and print in a table format\n",
    "\n",
    "    # Define file names and corresponding labels\n",
    "    files_labels = [ \n",
    "        ('07_CarmenInlet.csv', 'Carmen Inlet'),\n",
    "        ('01_PReal_inlet.csv', 'Puerto Real Inlet'),\n",
    "        ('05_CarmenIsland.csv', 'Carmen Island'),\n",
    "        ('06_Palizada.csv', 'Palizada Estuary'),\n",
    "        ('04_lagoonCenter.csv', 'Lagoon Center'),\n",
    "        ('03_Chumpan.csv', 'Chumpan Estuary'),\n",
    "        ('02_Candelaria.csv', 'Candelaria Estuary')\n",
    "    ]\n",
    "   \n",
    "    # Read all files and store in a dictionary\n",
    "    water_ages = {label: readWaterAge(path + file) for file, label in files_labels}\n",
    "\n",
    "    # Calculate mean and standard deviation for each file\n",
    "    stats = {label: (np.mean(water_age).item(), np.std(water_age, axis=0).item()) for label, water_age in water_ages.items()}\n",
    "\n",
    "\n",
    "    #Prepare data for tabulate\n",
    "    table_data = [[label, f\"{mean:.0f} ± {std:.0f}\"] for label, (mean, std) in stats.items()]\n",
    "    \n",
    "    # Print mean and standard deviation in a table format using tabulate\n",
    "    print(tabulate(table_data, headers=[\"Zones\", \"Mean ± Standard Deviationn (days)\"], tablefmt=\"grid\"))\n",
    "\n",
    "# Print the mean and standard deviation of the water age for each file\n",
    "calculate_mean_std_print_table(myDataPath)    "
   ]
  },
  {
   "cell_type": "code",
   "execution_count": null,
   "metadata": {},
   "outputs": [],
   "source": []
  },
  {
   "cell_type": "code",
   "execution_count": null,
   "metadata": {},
   "outputs": [],
   "source": []
  }
 ],
 "metadata": {
  "kernelspec": {
   "display_name": "base",
   "language": "python",
   "name": "python3"
  },
  "language_info": {
   "codemirror_mode": {
    "name": "ipython",
    "version": 3
   },
   "file_extension": ".py",
   "mimetype": "text/x-python",
   "name": "python",
   "nbconvert_exporter": "python",
   "pygments_lexer": "ipython3",
   "version": "3.11.9"
  }
 },
 "nbformat": 4,
 "nbformat_minor": 2
}
