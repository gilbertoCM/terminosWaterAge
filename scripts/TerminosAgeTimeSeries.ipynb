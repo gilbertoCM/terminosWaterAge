{
 "cells": [
  {
   "cell_type": "code",
   "execution_count": null,
   "metadata": {},
   "outputs": [],
   "source": [
    "# Import the necessary libraries\n",
    "import pandas as pd\n",
    "import matplotlib.pyplot as plt\n",
    "import seaborn as sns\n",
    "\n",
    "\n",
    "# Set the desired figure size in inche\n",
    "plt.rcParams['figure.figsize'] = (20, 12)  # Width: 8 inches, Height: 6 inches\n",
    "\n",
    "#create my color array (viridis)\n",
    "my_colors = [\"#fde725\",  \"#90d743\", \"#35b779\", \"#21918c\", \"#31688e\", \"#443983\", \"#440154\"]\n",
    "\n",
    "\n",
    "# add color array to set_palette\n",
    "sns.set_theme(font_scale=1.6, style=\"ticks\", palette= my_colors)\n"
   ]
  },
  {
   "cell_type": "code",
   "execution_count": null,
   "metadata": {},
   "outputs": [],
   "source": [
    "# My file path\n",
    "myPath = '..\\\\data\\\\AGE\\\\'\n",
    "\n",
    "# This window is used to calculate the moving average of the data\n",
    "window = 30"
   ]
  },
  {
   "cell_type": "code",
   "execution_count": null,
   "metadata": {},
   "outputs": [],
   "source": [
    "def readWaterAge(FolderName):\n",
    "    # Read the data from the csv file and store it in a variable\n",
    "    myVar = pd.read_csv(FolderName, sep = \",\", header = 0, decimal = \".\", index_col = 'date and time', parse_dates=['date and time'])\n",
    "    myVar.rename(columns = {'calculated  AGE  for water from source 1 (d)': 'WaterAge'}, inplace = True)\n",
    "    myVar.index.names = ['Date']\n",
    "    myVar.dropna()\n",
    "    myVar = myVar.iloc[4284:]\n",
    "    myVar['WaterAge'] = myVar['WaterAge'].astype(float)\n",
    "    return myVar"
   ]
  },
  {
   "cell_type": "code",
   "execution_count": null,
   "metadata": {},
   "outputs": [],
   "source": [
    "def smoothMyVar(var, myWindow):    \n",
    "   # Calculate the rolling mean and standard deviation for the variable\n",
    "    roll = var.WaterAge.rolling(myWindow, center=True)\n",
    "    mySmoothValues = roll.agg(['mean', 'std']) \n",
    "    return mySmoothValues"
   ]
  },
  {
   "cell_type": "code",
   "execution_count": null,
   "metadata": {},
   "outputs": [],
   "source": [
    "def plotSmootWaterAge(var, myWindow, myLabel):\n",
    "    # Plot the rolling mean and standard deviation of the water age\n",
    "    smoothValues = smoothMyVar(var, myWindow)\n",
    "        \n",
    "    ax = smoothValues['mean'].plot(linewidth=3, label= myLabel)            \n",
    "    ax.fill_between(smoothValues.index, smoothValues['mean'] - smoothValues['std'], \n",
    "                    smoothValues['mean'] + smoothValues['std'], alpha=0.2)\n",
    "          \n",
    "    plt.tight_layout()\n",
    "    plt.ylabel(\"Age trazer (days)\", size = 28)\n",
    "    plt.xlabel('Time (years)', size = 28)\n",
    "\n",
    "    plt.xticks(fontsize=18)\n",
    "    plt.yticks(fontsize=18)\n",
    "\n",
    "    plt.legend() \n",
    "          \n",
    "    return ax"
   ]
  },
  {
   "cell_type": "code",
   "execution_count": null,
   "metadata": {},
   "outputs": [],
   "source": [
    "def date2deltaTime(var):\n",
    "    # Calculate the time in years from using  the first data point\n",
    "    ser_diff = var.index.to_series().diff()\n",
    "    var['deltaT'] = ser_diff.dt.seconds.div(60, fill_value=0)\n",
    "    var['deltaT'] = ((var['deltaT'].cumsum()))/(60*24*365)\n",
    "    var.set_index('deltaT', inplace=True)\n",
    "    return var   "
   ]
  },
  {
   "cell_type": "code",
   "execution_count": null,
   "metadata": {},
   "outputs": [],
   "source": [
    "def plotTerminosAgesZones(path, myWindow):\n",
    "    # Read each area of the lagoon and plot the water age time series\n",
    "    PRealFile = path + '01_PReal_inlet.csv'\n",
    "    \n",
    "    CarmenInletFile = path + '07_CarmenInlet.csv'   \n",
    "\n",
    "    PRealAge = readWaterAge(PRealFile)\n",
    "    \n",
    "    CarmenInletAge = readWaterAge(CarmenInletFile)\n",
    "   \n",
    "    CandelariaFile = path + '02_Candelaria.csv'\n",
    "\n",
    "    ChumpanFile = path + '03_Chumpan.csv'\n",
    "\n",
    "    CentertFile = path + '04_lagoonCenter.csv'\n",
    "\n",
    "    CarmenIslandFile = path + '05_CarmenIsland.csv'\n",
    "\n",
    "    PalizadaFile = path + '06_Palizada.csv'   \n",
    "                                 \n",
    "    CandelariaAge = readWaterAge(CandelariaFile)\n",
    "   \n",
    "    ChumpanAGe = readWaterAge(ChumpanFile)\n",
    "\n",
    "    CarmenIslandAge = readWaterAge(CarmenIslandFile)\n",
    "\n",
    "    PalizadaAge = readWaterAge(PalizadaFile)\n",
    "\n",
    "    CenterAge = readWaterAge(CentertFile)\n",
    "\n",
    "    plotSmootWaterAge(CandelariaAge, myWindow, \"Candelaria\")\n",
    "\n",
    "    plotSmootWaterAge(ChumpanAGe, myWindow, \"Chumpan\")\n",
    "\n",
    "    plotSmootWaterAge(CenterAge, myWindow, \"Lagoon Center\")\n",
    "\n",
    "    plotSmootWaterAge(CarmenIslandAge, myWindow, \"Carmen Island\")\n",
    "\n",
    "    plotSmootWaterAge(PalizadaAge, myWindow, \"Palizada\")\n",
    "\n",
    "    plotSmootWaterAge(CarmenInletAge , myWindow, \"Carmen Inlet\")\n",
    "\n",
    "    plotSmootWaterAge(PRealAge, myWindow, \"Puerto Real Inlet\")\n",
    "    \n",
    "    # Save figures \n",
    "    plt.savefig('..\\\\output_files\\\\age_areas.pdf', dpi=600, format='pdf', metadata={'Author': 'Cardoso-Mohedano JG, 2023'})\n",
    "\n",
    "    #plt.savefig('single_column_figure.tiff', format='tiff')\n",
    "   \n",
    " \n",
    "    plt.show()\n"
   ]
  },
  {
   "cell_type": "code",
   "execution_count": null,
   "metadata": {},
   "outputs": [],
   "source": [
    "def plotTerminosAgesInlets(path, myWindow):\n",
    "    # Plot the water age time series for the inlets\n",
    "    files_labels = [\n",
    "        ('01_PReal_inlet.csv', 'Puerto Real Inlet'),\n",
    "        ('07_CarmenInlet.csv', 'Carmen Inlet')\n",
    "    ]\n",
    "    \n",
    "    # Loop through each file and label, read the water age, and plot\n",
    "    for file, label in files_labels:\n",
    "        water_age = readWaterAge(path + file)\n",
    "        plotSmootWaterAge(water_age, myWindow, label)\n",
    "    \n",
    "    # Save figures"
   ]
  },
  {
   "cell_type": "code",
   "execution_count": null,
   "metadata": {},
   "outputs": [],
   "source": [
    "def plotTerminosAgesZones(path, myWindow):\n",
    "    # Plot the water age time series for the zones\n",
    "    files_labels = [\n",
    "        ('02_Candelaria.csv', 'Candelaria Estuary'),\n",
    "        ('03_Chumpan.csv', 'Chumpan Estuary'),\n",
    "        ('04_lagoonCenter.csv', 'Lagoon Center'),\n",
    "        ('05_CarmenIsland.csv', 'Carmen Island'),\n",
    "        ('06_Palizada.csv', 'Palizada Estuary')\n",
    "    ]\n",
    "    \n",
    "    # Loop through each file and label, read the water age, and plot\n",
    "    for file, label in files_labels:\n",
    "        water_age = readWaterAge(path + file)\n",
    "        plotSmootWaterAge(water_age, myWindow, label)\n",
    "    \n",
    "    # Save figures"
   ]
  },
  {
   "cell_type": "code",
   "execution_count": null,
   "metadata": {},
   "outputs": [],
   "source": [
    "\n",
    "plotTerminosAgesInlets(myPath, window)\n"
   ]
  },
  {
   "cell_type": "code",
   "execution_count": null,
   "metadata": {},
   "outputs": [],
   "source": [
    "plotTerminosAgesZones(myPath, window)"
   ]
  },
  {
   "cell_type": "code",
   "execution_count": null,
   "metadata": {},
   "outputs": [],
   "source": [
    "import numpy as np\n",
    "\n",
    "def calculate_mean_std(path):\n",
    "    # Define file names and corresponding labels\n",
    "    files_labels = [\n",
    "        ('01_PReal_inlet.csv', 'Puerto Real Inlet'),\n",
    "        ('02_Candelaria.csv', 'Candelaria'),\n",
    "        ('03_Chumpan.csv', 'Chumpan'),\n",
    "        ('04_lagoonCenter.csv', 'Lagoon Center'),\n",
    "        ('05_CarmenIsland.csv', 'Carmen Island'),\n",
    "        ('06_Palizada.csv', 'Palizada'),\n",
    "        ('07_CarmenInlet.csv', 'Carmen Inlet')\n",
    "    ]\n",
    "    \n",
    "    # Read all files and store in a dictionary\n",
    "    water_ages = {label: readWaterAge(path + file) for file, label in files_labels}\n",
    "    \n",
    "     # Calculate mean and standard deviation for each file\n",
    "    stats = {label: (float(np.mean(water_age)), float(np.std(water_age))) for label, water_age in water_ages.items()}\n",
    "    \n",
    "    # Print mean and standard deviation in a table format\n",
    "    print(f\"{'Location':<20} {'Mean ± Standard Deviation':<30}\")\n",
    "    print(\"-\" * 50)\n",
    "    for label, (mean, std) in stats.items():\n",
    "        print(f\"{label:<20} {mean:.0f} ± {std:.0f}\")\n",
    "    \n",
    "\n",
    "\n",
    "\n",
    "    "
   ]
  },
  {
   "cell_type": "code",
   "execution_count": null,
   "metadata": {},
   "outputs": [],
   "source": [
    "calculate_mean_std(myPath)"
   ]
  },
  {
   "cell_type": "code",
   "execution_count": null,
   "metadata": {},
   "outputs": [],
   "source": [
    "import numpy as np\n",
    "\n",
    "def readWaterAge(file_path):\n",
    "    # Placeholder function to simulate reading water age data from a CSV file\n",
    "    # Replace this with actual implementation\n",
    "    return np.random.rand(100)  # Example: 100 random water age values\n",
    "\n",
    "def calculate_mean_std(path):\n",
    "    # Define file names and corresponding labels\n",
    "    files_labels = [\n",
    "        ('01_PReal_inlet.csv', 'Puerto Real Inlet'),\n",
    "        ('02_Candelaria.csv', 'Candelaria'),\n",
    "        ('03_Chumpan.csv', 'Chumpan'),\n",
    "        ('04_lagoonCenter.csv', 'Lagoon Center'),\n",
    "        ('05_CarmenIsland.csv', 'Carmen Island'),\n",
    "        ('06_Palizada.csv', 'Palizada'),\n",
    "        ('07_CarmenInlet.csv', 'Carmen Inlet')\n",
    "    ]\n",
    "    \n",
    "    # Read all files and store in a dictionary\n",
    "    water_ages = {label: readWaterAge(path + file) for file, label in files_labels}\n",
    "    \n",
    "    # Calculate mean and standard deviation for each file\n",
    "    stats = {label: (np.mean(water_age).item(), np.std(water_age, axis=0).item()) for label, water_age in water_ages.items()}\n",
    "    \n",
    "    # Print mean and standard deviation in a table format\n",
    "    print(f\"{'Location':<20} {'Mean ± Standard Deviation':<30}\")\n",
    "    print(\"-\" * 50)\n",
    "    for label, (mean, std) in stats.items():\n",
    "        print(f\"{label:<20} {mean:.2f} ± {std:.2f}\")\n",
    "\n"
   ]
  },
  {
   "cell_type": "code",
   "execution_count": null,
   "metadata": {},
   "outputs": [],
   "source": []
  }
 ],
 "metadata": {
  "kernelspec": {
   "display_name": "base",
   "language": "python",
   "name": "python3"
  },
  "language_info": {
   "codemirror_mode": {
    "name": "ipython",
    "version": 3
   },
   "file_extension": ".py",
   "mimetype": "text/x-python",
   "name": "python",
   "nbconvert_exporter": "python",
   "pygments_lexer": "ipython3",
   "version": "3.11.9"
  }
 },
 "nbformat": 4,
 "nbformat_minor": 2
}
