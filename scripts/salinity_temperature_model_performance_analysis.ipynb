{
 "cells": [
  {
   "cell_type": "markdown",
   "metadata": {},
   "source": [
    "## This scrips evalute Terminos Lagoon Delft3D model performance, using salinity and temperature data field"
   ]
  },
  {
   "cell_type": "code",
   "execution_count": null,
   "metadata": {},
   "outputs": [],
   "source": [
    "# Importing libraries\n",
    "import pandas as pd\n",
    "import numpy as np\n",
    "import gsw as gsw\n",
    "import matplotlib.dates as mdates"
   ]
  },
  {
   "cell_type": "code",
   "execution_count": null,
   "metadata": {},
   "outputs": [],
   "source": [
    "# read in the csv file\n",
    "def read_csv_file(filename):\n",
    "    # read in the csv file\n",
    "    df = pd.read_csv(filename, sep=\",\", header=0, decimal=\".\", encoding=\"utf-8\") \n",
    "    return df"
   ]
  },
  {
   "cell_type": "code",
   "execution_count": null,
   "metadata": {},
   "outputs": [],
   "source": [
    "# set folder and file names\n",
    "sal_temp_terminos_file = \"..\\data\\salinity_temperature_climatological_year_terminos_lagoon.csv\"\n"
   ]
  },
  {
   "cell_type": "code",
   "execution_count": null,
   "metadata": {},
   "outputs": [],
   "source": [
    "# Read salinity and temperature data from csv file\n",
    "sal_temp_terminos_rawdata = read_csv_file(sal_temp_terminos_file)"
   ]
  },
  {
   "cell_type": "code",
   "execution_count": null,
   "metadata": {},
   "outputs": [],
   "source": [
    "# print the column names\n",
    "for col in sal_temp_terminos_rawdata.columns:\n",
    "    print(col)"
   ]
  },
  {
   "cell_type": "code",
   "execution_count": null,
   "metadata": {},
   "outputs": [],
   "source": [
    "# select the columns of interest\n",
    "terminos_sal_temp = sal_temp_terminos_rawdata.copy()[\n",
    "    [\n",
    "        \"Time_model\",\n",
    "        \"salinity_ppt_marina_layer1\",\n",
    "        \"temperature_C_marina_layer1\",\n",
    "        \"Conductivity_microsiemens_cm_average\",\n",
    "        \"Temp_C_average\",\n",
    "    ]\n",
    "]"
   ]
  },
  {
   "cell_type": "code",
   "execution_count": null,
   "metadata": {},
   "outputs": [],
   "source": [
    "# set time as index\n",
    "terminos_sal_temp[\"Time_model\"] = pd.to_datetime(\n",
    "    terminos_sal_temp[\"Time_model\"], format=\"%d/%m/%Y %H:%M\"\n",
    "    )\n",
    "\n",
    "terminos_sal_temp = terminos_sal_temp.set_index(\n",
    "    terminos_sal_temp[\"Time_model\"]\n",
    "    )"
   ]
  },
  {
   "cell_type": "code",
   "execution_count": null,
   "metadata": {},
   "outputs": [],
   "source": [
    "months = [\n",
    "    \"January\",\n",
    "    \"February\",\n",
    "    \"March\",\n",
    "    \"April\",\n",
    "    \"May\",\n",
    "    \"June\",\n",
    "    \"July\",\n",
    "    \"August\",\n",
    "    \"September\",\n",
    "    \"October\",\n",
    "    \"November\",\n",
    "    \"December\",\n",
    "]"
   ]
  },
  {
   "cell_type": "code",
   "execution_count": null,
   "metadata": {},
   "outputs": [],
   "source": [
    "# Calculate salinity from hobo conductivity\n",
    "\n",
    "terminos_sal_temp[\"sea_level_preasure\"] = 0\n",
    "\n",
    "terminos_sal_temp[\"salinity_psu\"] = gsw.conversions.SP_from_C(\n",
    "    terminos_sal_temp[\"Conductivity_microsiemens_cm_average\"] / 1000,\n",
    "    terminos_sal_temp[\"Temp_C_average\"],\n",
    "    terminos_sal_temp[\"sea_level_preasure\"],\n",
    ")"
   ]
  },
  {
   "cell_type": "markdown",
   "metadata": {},
   "source": [
    "## Model performance functions"
   ]
  },
  {
   "cell_type": "code",
   "execution_count": null,
   "metadata": {},
   "outputs": [],
   "source": [
    "# Calculate basic statistics\n",
    "def bias(predictions, targets):\n",
    "    difference = predictions - targets\n",
    "    bias_val = difference.mean()\n",
    "    return bias_val"
   ]
  },
  {
   "cell_type": "code",
   "execution_count": null,
   "metadata": {},
   "outputs": [],
   "source": [
    "# Mean Square Error (MSE)\n",
    "def mse(predictions, targets):  \n",
    "    differences_squared = (predictions - targets) ** 2\n",
    "    mse_val = differences_squared.mean()\n",
    "    return mse_val"
   ]
  },
  {
   "cell_type": "code",
   "execution_count": null,
   "metadata": {},
   "outputs": [],
   "source": [
    "# Root Mean Square Error (RMSE)\n",
    "def rmse(predictions, targets):  \n",
    "    differences_squared = (predictions - targets) ** 2\n",
    "    rmse_val = np.sqrt(differences_squared.mean())\n",
    "    return rmse_val"
   ]
  },
  {
   "cell_type": "code",
   "execution_count": null,
   "metadata": {},
   "outputs": [],
   "source": [
    "# Mean Absolute Error (MAE)\n",
    "def mae(predictions, targets):  \n",
    "    absoluteDifference = np.absolute(predictions - targets)\n",
    "    mae_val = absoluteDifference.mean()\n",
    "    return mae_val"
   ]
  },
  {
   "cell_type": "code",
   "execution_count": null,
   "metadata": {},
   "outputs": [],
   "source": [
    "# Absolute Maximun Error (AME)\n",
    "def ame(predictions, targets):  \n",
    "    difference = predictions - targets\n",
    "    ame_val = max(np.abs(difference))\n",
    "    return ame_val"
   ]
  },
  {
   "cell_type": "code",
   "execution_count": null,
   "metadata": {},
   "outputs": [],
   "source": [
    "# Model skill score (skill)\n",
    "def model_skill(predictions, targets):\n",
    "    differences = predictions - targets\n",
    "    differencesSquared = abs(differences) ** 2\n",
    "    sumDifferencesSquared = sum(differencesSquared)\n",
    "    meanObservations = np.mean(targets)\n",
    "    modelMinusMeanObservations = np.absolute(list(np.asarray(predictions) - meanObservations))\n",
    "    observationsMinusMeanObservations = np.absolute(\n",
    "        list(np.asarray(targets) - meanObservations)\n",
    "    )\n",
    "    denominator = sum(\n",
    "        np.square(modelMinusMeanObservations + observationsMinusMeanObservations)\n",
    "    )\n",
    "    skill = 1 - sumDifferencesSquared / denominator\n",
    "    return skill"
   ]
  },
  {
   "cell_type": "code",
   "execution_count": null,
   "metadata": {},
   "outputs": [],
   "source": [
    "# Willmott agreement index (ia)\n",
    "def willmott_agreement(predictions, targets):\n",
    "    \"\"\"\n",
    "        index of agreement Willmott (1981, 1982) \n",
    "        input:\n",
    "        s: simulated\n",
    "        o: observed\n",
    "    output:\n",
    "        ia: index of agreement\n",
    "    \"\"\"\n",
    "    ia = 1 - (np.sum((targets - predictions) ** 2)) / (\n",
    "        np.sum(\n",
    "            (\n",
    "                np.abs(predictions - np.mean(targets))\n",
    "                + np.abs(targets - np.mean(targets))\n",
    "            )\n",
    "            ** 2\n",
    "        )\n",
    "    )\n",
    "    return ia\n"
   ]
  },
  {
   "cell_type": "code",
   "execution_count": null,
   "metadata": {},
   "outputs": [],
   "source": [
    "def run_performance(predictions, targets):\n",
    "    from tabulate import tabulate\n",
    "\n",
    "    performance_metrics = {\n",
    "        \"Bias\": bias,\n",
    "        \"Mean Square Error\": mse,\n",
    "        \"Root Mean Square Error\": rmse,\n",
    "        \"Mean Absolute Error\": mae,\n",
    "        \"Absolute Maximum Error\": ame,\n",
    "        \"Model Skill\": model_skill,\n",
    "        \"Willmott Agreement\": willmott_agreement\n",
    "    }\n",
    "\n",
    "    performance_results = [[name, round(func(predictions, targets), 1)] for name, func in performance_metrics.items()]\n",
    "    \n",
    "    table = tabulate(performance_results, headers=[\"Analysis\", \"Results\"], tablefmt=\"simple_outline\")\n",
    "    print(table)"
   ]
  },
  {
   "cell_type": "code",
   "execution_count": null,
   "metadata": {},
   "outputs": [],
   "source": [
    "# Salinity model performance analysis\n",
    "print(\"Salinity model performance analysis \\n \")\n",
    "run_performance(terminos_sal_temp[\"salinity_ppt_marina_layer1\"], terminos_sal_temp[\"salinity_psu\"])"
   ]
  },
  {
   "cell_type": "code",
   "execution_count": null,
   "metadata": {},
   "outputs": [],
   "source": [
    "print(\"Temperature model performance analysis\\n\")\n",
    "run_performance(terminos_sal_temp[\"temperature_C_marina_layer1\"], terminos_sal_temp[\"Temp_C_average\"])"
   ]
  },
  {
   "cell_type": "code",
   "execution_count": null,
   "metadata": {},
   "outputs": [],
   "source": []
  }
 ],
 "metadata": {
  "kernelspec": {
   "display_name": "base",
   "language": "python",
   "name": "python3"
  },
  "language_info": {
   "codemirror_mode": {
    "name": "ipython",
    "version": 3
   },
   "file_extension": ".py",
   "mimetype": "text/x-python",
   "name": "python",
   "nbconvert_exporter": "python",
   "pygments_lexer": "ipython3",
   "version": "3.11.9"
  }
 },
 "nbformat": 4,
 "nbformat_minor": 2
}
