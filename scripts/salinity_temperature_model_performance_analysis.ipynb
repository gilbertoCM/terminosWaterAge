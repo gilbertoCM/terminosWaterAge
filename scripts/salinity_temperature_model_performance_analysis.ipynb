{
 "cells": [
  {
   "cell_type": "markdown",
   "metadata": {},
   "source": [
    "# Water age in the Terminos lagoon. Mexico\n",
    "\n",
    " Jose-Gilberto Cardoso-Mohedano<sup>2,*</sup>, \n",
    " \n",
    "Lalo\n",
    "Marisol\n",
    "María- Eugenia Allende-Arandía \n",
    "Carlos \n",
    " \n",
    " Joan Albert Sanchez-Cabeza<sup>3</sup>,\n",
    " \n",
    "Ana Carolina Ruiz-Fernández<sup> 3 </sup>, Mario Alejandro Gómez-Ponce <sup>2</sup> ,\n",
    "\n",
    "\n",
    "\n",
    "<sup> 1 </sup> Posgrado en Ciencias del Mar y Limnología, Universidad Nacional Autónoma de México; Avenida Ciudad Universitaria 3000, C.P. 04510, Coyoacán, Ciudad de México, México\n",
    "\n",
    "<sup> 2 </sup>  Estación el Carmen, Instituto de Ciencias del Mar y Limnología, Universidad Nacional Autónoma de México, Carretera Carmen-Puerto Real km. 9.5, 24157 Ciudad del Carmen, Campeche, México\n",
    "\n",
    "<sup> 3 </sup>  Unidad Académica Mazatlán, Instituto de Ciencias del Mar y Limnología, Universidad Nacional Autónoma de México, Calzada Joel Montes Camarena s/n, Colonia Playa Sur, Mazatlán 82000, Sinaloa, México\n",
    "\n",
    "\n",
    "\n",
    " \\*Corresponding Author: gcardoso@cmarl.unam.mx Phone:+52-938-38-31847\n",
    "\n",
    "[doi:XXXXX](https://XXXX)"
   ]
  },
  {
   "cell_type": "markdown",
   "metadata": {},
   "source": [
    "## This scrips evalute Terminos Lagoon Delft3D model performance, using salinity and temperature data field"
   ]
  },
  {
   "cell_type": "code",
   "execution_count": 70,
   "metadata": {},
   "outputs": [],
   "source": [
    "# Importing libraries\n",
    "import pandas as pd\n",
    "import numpy as np\n",
    "import gsw as gsw\n",
    "import matplotlib.dates as mdates"
   ]
  },
  {
   "cell_type": "code",
   "execution_count": 71,
   "metadata": {},
   "outputs": [],
   "source": [
    "# read in the csv file\n",
    "def read_csv_file(filename):\n",
    "    # read in the csv file\n",
    "    df = pd.read_csv(filename, sep=\",\", header=0, decimal=\".\", encoding=\"utf-8\") \n",
    "    return df"
   ]
  },
  {
   "cell_type": "code",
   "execution_count": 72,
   "metadata": {},
   "outputs": [],
   "source": [
    "# set folder and file names\n",
    "sal_temp_terminos_file = \"..\\data\\salinity_temperature_climatological_year_terminos_lagoon.csv\"\n"
   ]
  },
  {
   "cell_type": "code",
   "execution_count": 73,
   "metadata": {},
   "outputs": [],
   "source": [
    "# Read salinity and temperature data from csv file\n",
    "sal_temp_terminos_rawdata = read_csv_file(sal_temp_terminos_file)"
   ]
  },
  {
   "cell_type": "code",
   "execution_count": 74,
   "metadata": {},
   "outputs": [
    {
     "name": "stdout",
     "output_type": "stream",
     "text": [
      "Time_model\n",
      "salinity_ppt_marina_layer1\n",
      "temperature_C_marina_layer1\n",
      "Salinity_psu_model\n",
      "Temperature_C_model\n",
      "Time _2016_data\n",
      "Date_GMT_00\n",
      "Conductivity_microsiemens_cm\n",
      "Temp_C\n",
      "Year_2016\n",
      "Date_GMT_00.1\n",
      "Conductivity_microsiemens_cm.1\n",
      "Temp_C.1\n",
      "Year_2017\n",
      "Date_GMT_00.2\n",
      "Conductivity_microsiemens_cm.2\n",
      "Temp_C.2\n",
      "Year_2018\n",
      "Conductivity_microsiemens_cm_average\n",
      "Conductivity_microsiemens_cm_std\n",
      "Temp_C_average\n",
      "Temp_C_std\n"
     ]
    }
   ],
   "source": [
    "# print the column names\n",
    "for col in sal_temp_terminos_rawdata.columns:\n",
    "    print(col)"
   ]
  },
  {
   "cell_type": "code",
   "execution_count": 75,
   "metadata": {},
   "outputs": [],
   "source": [
    "# select the columns of interest\n",
    "terminos_sal_temp = sal_temp_terminos_rawdata.copy()[\n",
    "    [\n",
    "        \"Time_model\",\n",
    "        \"salinity_ppt_marina_layer1\",\n",
    "        \"temperature_C_marina_layer1\",\n",
    "        \"Conductivity_microsiemens_cm_average\",\n",
    "        \"Temp_C_average\",\n",
    "    ]\n",
    "]"
   ]
  },
  {
   "cell_type": "code",
   "execution_count": 76,
   "metadata": {},
   "outputs": [],
   "source": [
    "# set time as index\n",
    "terminos_sal_temp[\"Time_model\"] = pd.to_datetime(\n",
    "    terminos_sal_temp[\"Time_model\"], format=\"%d/%m/%Y %H:%M\"\n",
    "    )\n",
    "\n",
    "terminos_sal_temp = terminos_sal_temp.set_index(\n",
    "    terminos_sal_temp[\"Time_model\"]\n",
    "    )"
   ]
  },
  {
   "cell_type": "code",
   "execution_count": 77,
   "metadata": {},
   "outputs": [],
   "source": [
    "months = [\n",
    "    \"January\",\n",
    "    \"February\",\n",
    "    \"March\",\n",
    "    \"April\",\n",
    "    \"May\",\n",
    "    \"June\",\n",
    "    \"July\",\n",
    "    \"August\",\n",
    "    \"September\",\n",
    "    \"October\",\n",
    "    \"November\",\n",
    "    \"December\",\n",
    "]"
   ]
  },
  {
   "cell_type": "code",
   "execution_count": 78,
   "metadata": {},
   "outputs": [],
   "source": [
    "# Calculate salinity from hobo conductivity\n",
    "\n",
    "terminos_sal_temp[\"sea_level_preasure\"] = 0\n",
    "\n",
    "terminos_sal_temp[\"salinity_psu\"] = gsw.conversions.SP_from_C(\n",
    "    terminos_sal_temp[\"Conductivity_microsiemens_cm_average\"] / 1000,\n",
    "    terminos_sal_temp[\"Temp_C_average\"],\n",
    "    terminos_sal_temp[\"sea_level_preasure\"],\n",
    ")"
   ]
  },
  {
   "cell_type": "markdown",
   "metadata": {},
   "source": [
    "## Model performance functions"
   ]
  },
  {
   "cell_type": "code",
   "execution_count": 79,
   "metadata": {},
   "outputs": [],
   "source": [
    "# Calculate basic statistics\n",
    "def bias(predictions, targets):\n",
    "    difference = predictions - targets\n",
    "    bias_val = difference.mean()\n",
    "    return bias_val"
   ]
  },
  {
   "cell_type": "code",
   "execution_count": 80,
   "metadata": {},
   "outputs": [],
   "source": [
    "# Mean Square Error (MSE)\n",
    "def mse(predictions, targets):  \n",
    "    differences_squared = (predictions - targets) ** 2\n",
    "    mse_val = differences_squared.mean()\n",
    "    return mse_val"
   ]
  },
  {
   "cell_type": "code",
   "execution_count": 81,
   "metadata": {},
   "outputs": [],
   "source": [
    "# Root Mean Square Error (RMSE)\n",
    "def rmse(predictions, targets):  \n",
    "    differences_squared = (predictions - targets) ** 2\n",
    "    rmse_val = np.sqrt(differences_squared.mean())\n",
    "    return rmse_val"
   ]
  },
  {
   "cell_type": "code",
   "execution_count": 82,
   "metadata": {},
   "outputs": [],
   "source": [
    "# Mean Absolute Error (MAE)\n",
    "def mae(predictions, targets):  \n",
    "    absoluteDifference = np.absolute(predictions - targets)\n",
    "    mae_val = absoluteDifference.mean()\n",
    "    return mae_val"
   ]
  },
  {
   "cell_type": "code",
   "execution_count": 83,
   "metadata": {},
   "outputs": [],
   "source": [
    "# Absolute Maximun Error (AME)\n",
    "def ame(predictions, targets):  \n",
    "    difference = predictions - targets\n",
    "    ame_val = max(np.abs(difference))\n",
    "    return ame_val"
   ]
  },
  {
   "cell_type": "code",
   "execution_count": 84,
   "metadata": {},
   "outputs": [],
   "source": [
    "# Model skill score (skill)\n",
    "def model_skill(predictions, targets):\n",
    "    differences = predictions - targets\n",
    "    differencesSquared = abs(differences) ** 2\n",
    "    sumDifferencesSquared = sum(differencesSquared)\n",
    "    meanObservations = np.mean(targets)\n",
    "    modelMinusMeanObservations = np.absolute(list(np.asarray(predictions) - meanObservations))\n",
    "    observationsMinusMeanObservations = np.absolute(\n",
    "        list(np.asarray(targets) - meanObservations)\n",
    "    )\n",
    "    denominator = sum(\n",
    "        np.square(modelMinusMeanObservations + observationsMinusMeanObservations)\n",
    "    )\n",
    "    skill = 1 - sumDifferencesSquared / denominator\n",
    "    return skill"
   ]
  },
  {
   "cell_type": "code",
   "execution_count": 85,
   "metadata": {},
   "outputs": [],
   "source": [
    "# Willmott agreement index (ia)\n",
    "def willmott_agreement(predictions, targets):\n",
    "    \"\"\"\n",
    "        index of agreement Willmott (1981, 1982) \n",
    "        input:\n",
    "        s: simulated\n",
    "        o: observed\n",
    "    output:\n",
    "        ia: index of agreement\n",
    "    \"\"\"\n",
    "    ia = 1 - (np.sum((targets - predictions) ** 2)) / (\n",
    "        np.sum(\n",
    "            (\n",
    "                np.abs(predictions - np.mean(targets))\n",
    "                + np.abs(targets - np.mean(targets))\n",
    "            )\n",
    "            ** 2\n",
    "        )\n",
    "    )\n",
    "    return ia\n"
   ]
  },
  {
   "cell_type": "code",
   "execution_count": 86,
   "metadata": {},
   "outputs": [],
   "source": [
    "def run_performance(predictions, targets):\n",
    "    from tabulate import tabulate\n",
    "\n",
    "    performance_metrics = {\n",
    "        \"Bias\": bias,\n",
    "        \"Mean Square Error\": mse,\n",
    "        \"Root Mean Square Error\": rmse,\n",
    "        \"Mean Absolute Error\": mae,\n",
    "        \"Absolute Maximum Error\": ame,\n",
    "        \"Model Skill\": model_skill,\n",
    "        \"Willmott Agreement\": willmott_agreement\n",
    "    }\n",
    "\n",
    "    performance_results = [[name, round(func(predictions, targets), 1)] for name, func in performance_metrics.items()]\n",
    "    \n",
    "    table = tabulate(performance_results, headers=[\"Analysis\", \"Results\"], tablefmt=\"simple_outline\")\n",
    "    print(table)"
   ]
  },
  {
   "cell_type": "code",
   "execution_count": 87,
   "metadata": {},
   "outputs": [
    {
     "name": "stdout",
     "output_type": "stream",
     "text": [
      "Salinity model performance analysis \n",
      " \n",
      "┌────────────────────────┬───────────┐\n",
      "│ Analysis               │   Results │\n",
      "├────────────────────────┼───────────┤\n",
      "│ Bias                   │       0.6 │\n",
      "│ Mean Square Error      │      15.5 │\n",
      "│ Root Mean Square Error │       3.9 │\n",
      "│ Mean Absolute Error    │       3.2 │\n",
      "│ Absolute Maximum Error │      15.5 │\n",
      "│ Model Skill            │       0.7 │\n",
      "│ Willmott Agreement     │       0.7 │\n",
      "└────────────────────────┴───────────┘\n"
     ]
    }
   ],
   "source": [
    "# Salinity model performance analysis\n",
    "print(\"Salinity model performance analysis \\n \")\n",
    "run_performance(terminos_sal_temp[\"salinity_ppt_marina_layer1\"], terminos_sal_temp[\"salinity_psu\"])"
   ]
  },
  {
   "cell_type": "code",
   "execution_count": 88,
   "metadata": {},
   "outputs": [
    {
     "name": "stdout",
     "output_type": "stream",
     "text": [
      "Temperature model performance analysis\n",
      "\n",
      "┌────────────────────────┬───────────┐\n",
      "│ Analysis               │   Results │\n",
      "├────────────────────────┼───────────┤\n",
      "│ Bias                   │      -1.8 │\n",
      "│ Mean Square Error      │       4.9 │\n",
      "│ Root Mean Square Error │       2.2 │\n",
      "│ Mean Absolute Error    │       1.9 │\n",
      "│ Absolute Maximum Error │       5.9 │\n",
      "│ Model Skill            │       0.8 │\n",
      "│ Willmott Agreement     │       0.8 │\n",
      "└────────────────────────┴───────────┘\n"
     ]
    }
   ],
   "source": [
    "print(\"Temperature model performance analysis\\n\")\n",
    "run_performance(terminos_sal_temp[\"temperature_C_marina_layer1\"], terminos_sal_temp[\"Temp_C_average\"])"
   ]
  },
  {
   "cell_type": "code",
   "execution_count": null,
   "metadata": {},
   "outputs": [],
   "source": []
  }
 ],
 "metadata": {
  "kernelspec": {
   "display_name": "base",
   "language": "python",
   "name": "python3"
  },
  "language_info": {
   "codemirror_mode": {
    "name": "ipython",
    "version": 3
   },
   "file_extension": ".py",
   "mimetype": "text/x-python",
   "name": "python",
   "nbconvert_exporter": "python",
   "pygments_lexer": "ipython3",
   "version": "3.11.5"
  }
 },
 "nbformat": 4,
 "nbformat_minor": 2
}
