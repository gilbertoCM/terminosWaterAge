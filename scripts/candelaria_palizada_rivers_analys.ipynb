{
 "cells": [
  {
   "cell_type": "markdown",
   "metadata": {},
   "source": [
    "# Water age in the Terminos lagoon. Mexico\n",
    "\n",
    " Jose-Gilberto Cardoso-Mohedano<sup>2,*</sup>, \n",
    " \n",
    "Lalo\n",
    "Marisol\n",
    "María-Eugenia Allende-Arandía \n",
    "\n",
    "Carlos \n",
    " \n",
    " Joan Albert Sanchez-Cabeza<sup>3</sup>,\n",
    " \n",
    "Ana Carolina Ruiz-Fernández<sup> 3 </sup>, \n",
    "\n",
    "\n",
    "\n",
    "<sup> 1 </sup> Posgrado en Ciencias del Mar y Limnología, Universidad Nacional Autónoma de México; Avenida Ciudad Universitaria 3000, C.P. 04510, Coyoacán, Ciudad de México, México\n",
    "\n",
    "<sup> 2 </sup>  Estación el Carmen, Instituto de Ciencias del Mar y Limnología, Universidad Nacional Autónoma de México, Carretera Carmen-Puerto Real km. 9.5, 24157 Ciudad del Carmen, Campeche, México\n",
    "\n",
    "<sup> 3 </sup>  Unidad Académica Mazatlán, Instituto de Ciencias del Mar y Limnología, Universidad Nacional Autónoma de México, Calzada Joel Montes Camarena s/n, Colonia Playa Sur, Mazatlán 82000, Sinaloa, México\n",
    "\n",
    "\n",
    "\n",
    " \\*Corresponding Author: gcardoso@cmarl.unam.mx Phone:+52-938-38-31847\n",
    "\n",
    "[doi:XXXXX](https://XXXX)"
   ]
  },
  {
   "cell_type": "markdown",
   "metadata": {},
   "source": [
    "## This scrips plot the interannual flow variability of the Candelaria and Palizada rivers"
   ]
  },
  {
   "cell_type": "code",
   "execution_count": null,
   "metadata": {},
   "outputs": [],
   "source": [
    "# import libraries\n",
    "\n",
    "import pandas as pd\n",
    "import matplotlib.pyplot as plt\n",
    "import seaborn as sns\n",
    "import matplotlib.dates as mdates\n",
    "from datetime import date, timedelta"
   ]
  },
  {
   "cell_type": "markdown",
   "metadata": {},
   "source": [
    "### Read flow of the Candelaria Palizada data  "
   ]
  },
  {
   "cell_type": "code",
   "execution_count": null,
   "metadata": {},
   "outputs": [],
   "source": [
    "# To read in the csv file\n",
    "\n",
    "\n",
    "def read_csv_file(filename):\n",
    "    # Read in the csv file\n",
    "    df = pd.read_csv(filename, sep=\",\", header=0, decimal=\".\", encoding=\"utf-8\") \n",
    "    return df\n",
    "\n",
    "#"
   ]
  },
  {
   "cell_type": "code",
   "execution_count": null,
   "metadata": {},
   "outputs": [],
   "source": [
    "# To convert the date column to datetime and set it as the index\n",
    "\n",
    "def convert_date_and_set_index(df):\n",
    "    df[\"date\"] = pd.to_datetime(df[\"date\"], format=\"%d/%m/%Y\")\n",
    "    df = df.set_index(df[\"date\"])\n",
    "    return df"
   ]
  },
  {
   "cell_type": "code",
   "execution_count": null,
   "metadata": {},
   "outputs": [],
   "source": [
    "# set folder paths\n",
    "\n",
    "candelaria_path = \"../data/ESCALA_CANDELARIA_1995_2020.csv\"\n",
    "palizada_path = \"../data/escala_rio_palizada.csv\""
   ]
  },
  {
   "cell_type": "code",
   "execution_count": null,
   "metadata": {},
   "outputs": [],
   "source": [
    "# read the dataframes\n",
    "\n",
    "candelaria_raw_data = read_csv_file(candelaria_path)\n",
    "palizada_raw_data = read_csv_file(palizada_path)\n"
   ]
  },
  {
   "cell_type": "code",
   "execution_count": null,
   "metadata": {},
   "outputs": [],
   "source": [
    "candelaria_flow = convert_date_and_set_index(candelaria_raw_data.copy())\n",
    "palizada_flow = convert_date_and_set_index(palizada_raw_data.copy())"
   ]
  },
  {
   "cell_type": "code",
   "execution_count": null,
   "metadata": {},
   "outputs": [],
   "source": [
    "# select the columns we want to keep\n",
    "candelaria_flow = candelaria_flow[[\"date\", \"flow_m3_s\"]]\n",
    "palizada_flow = palizada_flow[[\"date\", \"flow_m3_s\"]]"
   ]
  },
  {
   "cell_type": "markdown",
   "metadata": {},
   "source": [
    "## Calculate the interannual flow (mean and standard deviation) for the Candelaria and Palizada rivers"
   ]
  },
  {
   "cell_type": "code",
   "execution_count": null,
   "metadata": {},
   "outputs": [],
   "source": [
    "# Create a reference year\n",
    "# Warning: 2016 reference year used in the Delft3D model\n",
    "\n",
    "sdate = date(2016,1,1)   # start date\n",
    "edate = date(2017,1,1)   # end date\n",
    "\n",
    "year_2016 = pd.date_range(sdate,edate-timedelta(days=1),freq='d')"
   ]
  },
  {
   "cell_type": "code",
   "execution_count": null,
   "metadata": {},
   "outputs": [],
   "source": [
    "# Calculate mean and standard deviation per day of year for each river\n",
    "\n",
    "# Candelaria\n",
    "candelaria_flow_average = candelaria_flow.groupby(candelaria_flow.index.day_of_year).mean()\n",
    "candelaria_flow_std = candelaria_flow.groupby(candelaria_flow.index.day_of_year).std()\n",
    "\n",
    "# Palizada\n",
    "palizada_flow_average = palizada_flow.groupby(palizada_flow.index.day_of_year).mean()\n",
    "palizada_flow_std = palizada_flow.groupby(palizada_flow.index.day_of_year).std()"
   ]
  },
  {
   "cell_type": "code",
   "execution_count": null,
   "metadata": {},
   "outputs": [],
   "source": [
    "# Plot mean and standard deviation per day of year for each river\n",
    "\n",
    "def plot_river_flow(year, flow_average, flow_std, color, label):\n",
    "    plt.plot(year, flow_average[\"flow_m3_s\"], color=color, linewidth=3, label=label)\n",
    "    plt.fill_between(year, \n",
    "                     (flow_average[\"flow_m3_s\"] - flow_std[\"flow_m3_s\"]), \n",
    "                     (flow_average[\"flow_m3_s\"] + flow_std[\"flow_m3_s\"]), \n",
    "                     color=color, alpha=0.2)"
   ]
  },
  {
   "cell_type": "code",
   "execution_count": null,
   "metadata": {},
   "outputs": [],
   "source": [
    "# set formatting for the plot\n",
    "\n",
    "def format_plot():\n",
    "    plt.xlim([date(2016,1,1) , date(2016,12,31)])\n",
    "    plt.gca().xaxis.set_major_formatter(mdates.DateFormatter('%B'))\n",
    "    plt.xticks(size=28)\n",
    "    plt.yticks(size=28)\n",
    "    plt.ylabel(\"Multi-year average river flow (m$^{3}$ s$^{-1}$)\", size=32)\n",
    "    plt.gca().xaxis.set_major_formatter(mdates.DateFormatter(\"%b\"))\n",
    "    plt.rc(\"pdf\", fonttype=42)\n",
    "    plt.legend(fontsize=28, loc='upper left')  # Display the labels\n",
    "\n",
    "\n"
   ]
  },
  {
   "cell_type": "code",
   "execution_count": null,
   "metadata": {},
   "outputs": [],
   "source": [
    "# Plot the river flow for each river\n",
    "\n",
    "import matplotlib.patches as patches\n",
    "import matplotlib.dates as mdates\n",
    "from datetime import datetime\n",
    "import matplotlib.pyplot as plt\n",
    "\n",
    "plt.figure(figsize=(20, 12))\n",
    "\n",
    "plot_river_flow(year_2016, palizada_flow_average, palizada_flow_std, \"#440154\", 'Palizada')\n",
    "plot_river_flow(year_2016, candelaria_flow_average, candelaria_flow_std, \"#5ec962\", 'Candelaria')\n",
    "\n",
    "format_plot()\n",
    "\n",
    "# Add a rectangle to highlight the dry season\n",
    "plt.gca().add_patch(patches.Rectangle(\n",
    "    (mdates.date2num(datetime(2016, 2, 1)), -100),\n",
    "    mdates.date2num(datetime(2016, 5, 30)) - mdates.date2num(datetime(2016, 2, 1)),\n",
    "    800,\n",
    "    fill=True, \n",
    "    facecolor='#F4C27A', \n",
    "    edgecolor='none', \n",
    "    alpha=0.3, \n",
    "    zorder=-1\n",
    "))\n",
    "\n",
    "\n",
    "plt.savefig(\"../output_files/candelariaParizadaRiverFlowAV.pdf\", transparent=True)\n",
    "plt.show()\n",
    "\n"
   ]
  }
 ],
 "metadata": {
  "kernelspec": {
   "display_name": "base",
   "language": "python",
   "name": "python3"
  },
  "language_info": {
   "codemirror_mode": {
    "name": "ipython",
    "version": 3
   },
   "file_extension": ".py",
   "mimetype": "text/x-python",
   "name": "python",
   "nbconvert_exporter": "python",
   "pygments_lexer": "ipython3",
   "version": "3.12.3"
  }
 },
 "nbformat": 4,
 "nbformat_minor": 2
}
